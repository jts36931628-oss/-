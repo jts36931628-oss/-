{
  "nbformat": 4,
  "nbformat_minor": 0,
  "metadata": {
    "colab": {
      "provenance": [],
      "authorship_tag": "ABX9TyMt397qdj5iGXQtcVpQsqgH",
      "include_colab_link": true
    },
    "kernelspec": {
      "name": "python3",
      "display_name": "Python 3"
    },
    "language_info": {
      "name": "python"
    }
  },
  "cells": [
    {
      "cell_type": "markdown",
      "metadata": {
        "id": "view-in-github",
        "colab_type": "text"
      },
      "source": [
        "<a href=\"https://colab.research.google.com/github/jts36931628-oss/-/blob/main/%EA%B8%B0%EC%B4%88%ED%99%95%EB%A5%A0%EA%B3%BC%ED%86%B5%EA%B3%84_2%EC%B0%A8_%EA%B3%BC%EC%A0%9C_20250589_%EC%A7%84%ED%83%9C%EC%96%B8.ipynb\" target=\"_parent\"><img src=\"https://colab.research.google.com/assets/colab-badge.svg\" alt=\"Open In Colab\"/></a>"
      ]
    },
    {
      "cell_type": "code",
      "execution_count": 1,
      "metadata": {
        "colab": {
          "base_uri": "https://localhost:8080/"
        },
        "id": "-oL9p4ZTaBHr",
        "outputId": "8bc8b858-034e-4c41-c277-dc0c9f7bc182"
      },
      "outputs": [
        {
          "output_type": "stream",
          "name": "stdout",
          "text": [
            "[6, 5, 4, 3, 2]\n"
          ]
        }
      ],
      "source": [
        "a = [2, 3, 4, 5, 6]\n",
        "reversed_a = []\n",
        "\n",
        "for _ in range(len(a)):\n",
        "    reversed_a.append(a.pop())\n",
        "\n",
        "print(reversed_a)\n"
      ]
    },
    {
      "cell_type": "code",
      "source": [],
      "metadata": {
        "id": "inKjcIwNaP-J"
      },
      "execution_count": null,
      "outputs": []
    }
  ]
}